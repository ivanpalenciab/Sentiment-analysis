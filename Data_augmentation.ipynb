{
 "cells": [
  {
   "cell_type": "code",
   "execution_count": null,
   "id": "7b3faa27-7f26-454b-84b8-c77bbe88e2f8",
   "metadata": {},
   "outputs": [],
   "source": [
    "import os\n",
    "from dotenv import load_dotenv\n",
    "import deepl\n",
    "import pandas as pd"
   ]
  },
  {
   "cell_type": "code",
   "execution_count": null,
   "id": "aee5a543-fdb4-462c-aeba-6030abb1af37",
   "metadata": {},
   "outputs": [],
   "source": [
    "load_dotenv()\n",
    "DEEPL_API_KEY = os.getenv(\"API_KEY\")\n"
   ]
  },
  {
   "cell_type": "code",
   "execution_count": null,
   "id": "5ad4ad47-3aa4-4174-995d-0032aafd861b",
   "metadata": {},
   "outputs": [],
   "source": [
    "\"\"\"This function allow us to make parafrasing by back translation method \n",
    "    My text is translated to english, after to german, french and finally to chinese to go back to spanish\n",
    "\"\"\"\n",
    "def back_translate(text, src_lang):\n",
    "  \"\"\"In src_lang use \"es\" for spanish and \"en\" for english\"\"\"\n",
    "  translator = deepl.Translator(DEEPL_API_KEY)\n",
    "  first_translation = translator.translate_text(text, source_lang=src_lang, target_lang=\"EN-GB\").text\n",
    "  german_translation = translator.translate_text(first_translation, source_lang=\"EN\", target_lang=\"de\").text\n",
    "  french_translation = translator.translate_text(german_translation, source_lang=\"de\", target_lang=\"fr\").text\n",
    "  chinese_translation = translator.translate_text(french_translation, source_lang=\"FR\", target_lang=\"ZH-HANT\").text\n",
    "\n",
    "  #Back to original language\n",
    "  parafrasing = translator.translate_text(chinese_translation, source_lang=\"ZH\", target_lang=src_lang).text\n",
    "\n",
    "  return parafrasing"
   ]
  },
  {
   "cell_type": "code",
   "execution_count": null,
   "id": "951c8e29-1388-423d-889b-b4fd35aa6473",
   "metadata": {},
   "outputs": [],
   "source": [
    "data = pd.read_parquet(\"datos/spanish%2Fmultilingual-sentiments-train.parquet\")\n",
    "data.drop(\"source\",axis=1,inplace=True)\n",
    "data.head()"
   ]
  },
  {
   "cell_type": "code",
   "execution_count": null,
   "id": "e457ca26-7057-4fb2-8b4d-e8ced713e0bc",
   "metadata": {},
   "outputs": [],
   "source": [
    "#Nota:Desde aqui se debe seguir parafraseando\n",
    "df = data.iloc[1234:1334]\n",
    "df.shape"
   ]
  },
  {
   "cell_type": "code",
   "execution_count": null,
   "id": "637384eb-4569-4ca4-9b9f-ac357bdd2640",
   "metadata": {},
   "outputs": [],
   "source": [
    "parafrasing = {\"text\":[],\n",
    "       \"label\":[]}\n",
    "\n",
    "for _, row in df.iterrows():\n",
    "  parafraseo = back_translate(row[\"text\"], \"es\")\n",
    "  label =row[\"label\"]\n",
    "  parafrasing[\"text\"].append(parafraseo)\n",
    "  parafrasing[\"label\"].append(label)\n",
    "\n",
    "pd.DataFrame(parafrasing)"
   ]
  },
  {
   "cell_type": "code",
   "execution_count": null,
   "id": "15893546-6a9f-4f02-8db8-de1a43fcd262",
   "metadata": {},
   "outputs": [],
   "source": [
    "df_parafrased = pd.DataFrame(parafrasing)\n",
    "df_parafrased.shape"
   ]
  },
  {
   "cell_type": "code",
   "execution_count": null,
   "id": "6d2aca34-6dfc-4ddd-88b6-f4747a5908c7",
   "metadata": {},
   "outputs": [],
   "source": [
    "df_parafrased.to_csv(\"datos/data_augmented_13.csv\",index=False)"
   ]
  },
  {
   "cell_type": "code",
   "execution_count": null,
   "id": "24bcf907-6d9a-47dc-a81c-818ddaee9b17",
   "metadata": {},
   "outputs": [],
   "source": [
    "df.loc[1233, \"text\"]"
   ]
  }
 ],
 "metadata": {
  "kernelspec": {
   "display_name": "Python 3 (ipykernel)",
   "language": "python",
   "name": "python3"
  },
  "language_info": {
   "codemirror_mode": {
    "name": "ipython",
    "version": 3
   },
   "file_extension": ".py",
   "mimetype": "text/x-python",
   "name": "python",
   "nbconvert_exporter": "python",
   "pygments_lexer": "ipython3",
   "version": "3.10.4"
  }
 },
 "nbformat": 4,
 "nbformat_minor": 5
}
